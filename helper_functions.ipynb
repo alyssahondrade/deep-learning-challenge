{
 "cells": [
  {
   "cell_type": "markdown",
   "id": "12940701-4d6d-4fb5-91e9-3f11c9c683da",
   "metadata": {},
   "source": [
    "# Helper Functions"
   ]
  },
  {
   "cell_type": "code",
   "execution_count": 1,
   "id": "7cd9c78c-29fb-4182-a344-ec8631181e3a",
   "metadata": {},
   "outputs": [],
   "source": [
    "def limit_unique(df, max_value, columns_to_limit):\n",
    "    \"\"\"\n",
    "    Purpose of the function is to limit the number of unique values\n",
    "    \"\"\"\n",
    "    \n",
    "    # Loop through each column\n",
    "    for col in columns_to_limit:\n",
    "        # Get the value counts of the column\n",
    "        total_counts = df[col].value_counts()\n",
    "        \n",
    "        # Get the top values to retain, not including \"Other\"\n",
    "        top_counts = total_counts[:max_value-1]\n",
    "        \n",
    "        # Define the cutoff\n",
    "        cutoff_value = top_counts.iloc[-1]\n",
    "        \n",
    "        # Create a list of values to replace\n",
    "        replace_values = total_counts.loc[total_counts.values < cutoff_value].index\n",
    "        \n",
    "        # Replace in dataframe\n",
    "        for value in replace_values:\n",
    "            df[col] = df[col].replace(value, \"Other\")\n",
    "        \n",
    "        # Check to make sure binning was successful\n",
    "        print(df[col].value_counts())\n",
    "        print(f'Number of unique values: {df[col].nunique()}\\n')"
   ]
  },
  {
   "cell_type": "code",
   "execution_count": null,
   "id": "c2083854-4ed1-4dd7-81b0-d04e8798ddd6",
   "metadata": {},
   "outputs": [],
   "source": []
  }
 ],
 "metadata": {
  "kernelspec": {
   "display_name": "dev",
   "language": "python",
   "name": "dev"
  },
  "language_info": {
   "codemirror_mode": {
    "name": "ipython",
    "version": 3
   },
   "file_extension": ".py",
   "mimetype": "text/x-python",
   "name": "python",
   "nbconvert_exporter": "python",
   "pygments_lexer": "ipython3",
   "version": "3.10.13"
  }
 },
 "nbformat": 4,
 "nbformat_minor": 5
}
