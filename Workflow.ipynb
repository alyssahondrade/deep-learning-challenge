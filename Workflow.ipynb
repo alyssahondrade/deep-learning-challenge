{
 "cells": [
  {
   "cell_type": "markdown",
   "id": "c57723c8-8462-4087-a230-48bdac522591",
   "metadata": {},
   "source": [
    "# Preprocessing"
   ]
  },
  {
   "cell_type": "code",
   "execution_count": 45,
   "id": "7159dc58-8dce-44bb-b68d-af81b1382fdc",
   "metadata": {},
   "outputs": [],
   "source": [
    "# Import dependencies\n",
    "from sklearn.model_selection import train_test_split\n",
    "from sklearn.preprocessing import StandardScaler\n",
    "\n",
    "import pandas as pd\n",
    "import math\n",
    "from pprint import pprint\n",
    "\n",
    "import tensorflow as tf\n",
    "from tensorflow.keras import layers\n",
    "from tensorflow.keras.callbacks import ModelCheckpoint\n",
    "import keras_tuner as kt"
   ]
  },
  {
   "cell_type": "code",
   "execution_count": 46,
   "id": "af547b0b-0aad-4856-b8fe-7f5dd3925ed9",
   "metadata": {},
   "outputs": [
    {
     "data": {
      "text/html": [
       "<div>\n",
       "<style scoped>\n",
       "    .dataframe tbody tr th:only-of-type {\n",
       "        vertical-align: middle;\n",
       "    }\n",
       "\n",
       "    .dataframe tbody tr th {\n",
       "        vertical-align: top;\n",
       "    }\n",
       "\n",
       "    .dataframe thead th {\n",
       "        text-align: right;\n",
       "    }\n",
       "</style>\n",
       "<table border=\"1\" class=\"dataframe\">\n",
       "  <thead>\n",
       "    <tr style=\"text-align: right;\">\n",
       "      <th></th>\n",
       "      <th>EIN</th>\n",
       "      <th>NAME</th>\n",
       "      <th>APPLICATION_TYPE</th>\n",
       "      <th>AFFILIATION</th>\n",
       "      <th>CLASSIFICATION</th>\n",
       "      <th>USE_CASE</th>\n",
       "      <th>ORGANIZATION</th>\n",
       "      <th>STATUS</th>\n",
       "      <th>INCOME_AMT</th>\n",
       "      <th>SPECIAL_CONSIDERATIONS</th>\n",
       "      <th>ASK_AMT</th>\n",
       "      <th>IS_SUCCESSFUL</th>\n",
       "    </tr>\n",
       "  </thead>\n",
       "  <tbody>\n",
       "    <tr>\n",
       "      <th>0</th>\n",
       "      <td>10520599</td>\n",
       "      <td>BLUE KNIGHTS MOTORCYCLE CLUB</td>\n",
       "      <td>T10</td>\n",
       "      <td>Independent</td>\n",
       "      <td>C1000</td>\n",
       "      <td>ProductDev</td>\n",
       "      <td>Association</td>\n",
       "      <td>1</td>\n",
       "      <td>0</td>\n",
       "      <td>N</td>\n",
       "      <td>5000</td>\n",
       "      <td>1</td>\n",
       "    </tr>\n",
       "    <tr>\n",
       "      <th>1</th>\n",
       "      <td>10531628</td>\n",
       "      <td>AMERICAN CHESAPEAKE CLUB CHARITABLE TR</td>\n",
       "      <td>T3</td>\n",
       "      <td>Independent</td>\n",
       "      <td>C2000</td>\n",
       "      <td>Preservation</td>\n",
       "      <td>Co-operative</td>\n",
       "      <td>1</td>\n",
       "      <td>1-9999</td>\n",
       "      <td>N</td>\n",
       "      <td>108590</td>\n",
       "      <td>1</td>\n",
       "    </tr>\n",
       "    <tr>\n",
       "      <th>2</th>\n",
       "      <td>10547893</td>\n",
       "      <td>ST CLOUD PROFESSIONAL FIREFIGHTERS</td>\n",
       "      <td>T5</td>\n",
       "      <td>CompanySponsored</td>\n",
       "      <td>C3000</td>\n",
       "      <td>ProductDev</td>\n",
       "      <td>Association</td>\n",
       "      <td>1</td>\n",
       "      <td>0</td>\n",
       "      <td>N</td>\n",
       "      <td>5000</td>\n",
       "      <td>0</td>\n",
       "    </tr>\n",
       "    <tr>\n",
       "      <th>3</th>\n",
       "      <td>10553066</td>\n",
       "      <td>SOUTHSIDE ATHLETIC ASSOCIATION</td>\n",
       "      <td>T3</td>\n",
       "      <td>CompanySponsored</td>\n",
       "      <td>C2000</td>\n",
       "      <td>Preservation</td>\n",
       "      <td>Trust</td>\n",
       "      <td>1</td>\n",
       "      <td>10000-24999</td>\n",
       "      <td>N</td>\n",
       "      <td>6692</td>\n",
       "      <td>1</td>\n",
       "    </tr>\n",
       "    <tr>\n",
       "      <th>4</th>\n",
       "      <td>10556103</td>\n",
       "      <td>GENETIC RESEARCH INSTITUTE OF THE DESERT</td>\n",
       "      <td>T3</td>\n",
       "      <td>Independent</td>\n",
       "      <td>C1000</td>\n",
       "      <td>Heathcare</td>\n",
       "      <td>Trust</td>\n",
       "      <td>1</td>\n",
       "      <td>100000-499999</td>\n",
       "      <td>N</td>\n",
       "      <td>142590</td>\n",
       "      <td>1</td>\n",
       "    </tr>\n",
       "  </tbody>\n",
       "</table>\n",
       "</div>"
      ],
      "text/plain": [
       "        EIN                                      NAME APPLICATION_TYPE  \\\n",
       "0  10520599              BLUE KNIGHTS MOTORCYCLE CLUB              T10   \n",
       "1  10531628    AMERICAN CHESAPEAKE CLUB CHARITABLE TR               T3   \n",
       "2  10547893        ST CLOUD PROFESSIONAL FIREFIGHTERS               T5   \n",
       "3  10553066            SOUTHSIDE ATHLETIC ASSOCIATION               T3   \n",
       "4  10556103  GENETIC RESEARCH INSTITUTE OF THE DESERT               T3   \n",
       "\n",
       "        AFFILIATION CLASSIFICATION      USE_CASE  ORGANIZATION  STATUS  \\\n",
       "0       Independent          C1000    ProductDev   Association       1   \n",
       "1       Independent          C2000  Preservation  Co-operative       1   \n",
       "2  CompanySponsored          C3000    ProductDev   Association       1   \n",
       "3  CompanySponsored          C2000  Preservation         Trust       1   \n",
       "4       Independent          C1000     Heathcare         Trust       1   \n",
       "\n",
       "      INCOME_AMT SPECIAL_CONSIDERATIONS  ASK_AMT  IS_SUCCESSFUL  \n",
       "0              0                      N     5000              1  \n",
       "1         1-9999                      N   108590              1  \n",
       "2              0                      N     5000              0  \n",
       "3    10000-24999                      N     6692              1  \n",
       "4  100000-499999                      N   142590              1  "
      ]
     },
     "execution_count": 46,
     "metadata": {},
     "output_type": "execute_result"
    }
   ],
   "source": [
    "# Import and read the charity_data.csv\n",
    "application_df = pd.read_csv(\"https://static.bc-edx.com/data/dla-1-2/m21/lms/starter/charity_data.csv\")\n",
    "application_df.head()"
   ]
  },
  {
   "cell_type": "markdown",
   "id": "a0c12174-b3a0-477f-8760-27020af2054b",
   "metadata": {},
   "source": [
    "__What variable(s) are the target(s) for your model?__ 'IS_SUCCESSFUL'\n",
    "\n",
    "__What variable(s) are the feature(s) for your model?__ All other columns"
   ]
  },
  {
   "cell_type": "code",
   "execution_count": 47,
   "id": "36181a41-5b51-4c68-a5e2-ede1aa76b302",
   "metadata": {},
   "outputs": [],
   "source": [
    "# Drop the non-beneficial ID columns, 'EIN' and 'NAME'.\n",
    "application_df = application_df.drop(columns=['EIN'])"
   ]
  },
  {
   "cell_type": "code",
   "execution_count": 48,
   "id": "bc2e40cd-f5fc-4db4-bab7-206ca30134b4",
   "metadata": {},
   "outputs": [
    {
     "data": {
      "text/plain": [
       "NAME                      19568\n",
       "APPLICATION_TYPE             17\n",
       "AFFILIATION                   6\n",
       "CLASSIFICATION               71\n",
       "USE_CASE                      5\n",
       "ORGANIZATION                  4\n",
       "STATUS                        2\n",
       "INCOME_AMT                    9\n",
       "SPECIAL_CONSIDERATIONS        2\n",
       "ASK_AMT                    8747\n",
       "IS_SUCCESSFUL                 2\n",
       "dtype: int64"
      ]
     },
     "execution_count": 48,
     "metadata": {},
     "output_type": "execute_result"
    }
   ],
   "source": [
    "# Determine the number of unique values in each column.\n",
    "application_df.nunique()"
   ]
  },
  {
   "cell_type": "code",
   "execution_count": 44,
   "id": "e9087670-c868-4598-832d-2ab8717b6aaa",
   "metadata": {},
   "outputs": [],
   "source": [
    "# For encoding consistency, convert STATUS to Y/N instead of 1/0.\n",
    "application_df['STATUS'] = application_df['STATUS'].map({\n",
    "    0: 'N',\n",
    "    1: 'Y'\n",
    "})"
   ]
  },
  {
   "cell_type": "code",
   "execution_count": 49,
   "id": "cd5aebae-e50b-4e88-be5e-8b931b099ca0",
   "metadata": {},
   "outputs": [
    {
     "name": "stdout",
     "output_type": "stream",
     "text": [
      "<class 'pandas.core.frame.DataFrame'>\n",
      "RangeIndex: 34299 entries, 0 to 34298\n",
      "Data columns (total 11 columns):\n",
      " #   Column                  Non-Null Count  Dtype \n",
      "---  ------                  --------------  ----- \n",
      " 0   NAME                    34299 non-null  object\n",
      " 1   APPLICATION_TYPE        34299 non-null  object\n",
      " 2   AFFILIATION             34299 non-null  object\n",
      " 3   CLASSIFICATION          34299 non-null  object\n",
      " 4   USE_CASE                34299 non-null  object\n",
      " 5   ORGANIZATION            34299 non-null  object\n",
      " 6   STATUS                  34299 non-null  int64 \n",
      " 7   INCOME_AMT              34299 non-null  object\n",
      " 8   SPECIAL_CONSIDERATIONS  34299 non-null  object\n",
      " 9   ASK_AMT                 34299 non-null  int64 \n",
      " 10  IS_SUCCESSFUL           34299 non-null  int64 \n",
      "dtypes: int64(3), object(8)\n",
      "memory usage: 2.9+ MB\n"
     ]
    }
   ],
   "source": [
    "# Display the data types and non-null count\n",
    "application_df.info()"
   ]
  },
  {
   "cell_type": "code",
   "execution_count": 50,
   "id": "0c01af21-2583-4001-ac7c-9cb1962f769e",
   "metadata": {},
   "outputs": [
    {
     "data": {
      "text/plain": [
       "IS_SUCCESSFUL\n",
       "1    18261\n",
       "0    16038\n",
       "Name: count, dtype: int64"
      ]
     },
     "execution_count": 50,
     "metadata": {},
     "output_type": "execute_result"
    }
   ],
   "source": [
    "# Determine whether there is an imbalance in the target variable\n",
    "application_df['IS_SUCCESSFUL'].value_counts()"
   ]
  },
  {
   "cell_type": "markdown",
   "id": "e18bad98-2055-4967-9c2c-e28928e8b544",
   "metadata": {},
   "source": [
    "No, there is no apparent imbalance in the target variable."
   ]
  },
  {
   "cell_type": "markdown",
   "id": "bc187838-8e43-413a-89e8-f1838919bab6",
   "metadata": {},
   "source": [
    "## Categorical Columns Exploration"
   ]
  },
  {
   "cell_type": "code",
   "execution_count": 51,
   "id": "4a0a7395-a117-466b-ad21-04f0c236c750",
   "metadata": {},
   "outputs": [
    {
     "data": {
      "text/plain": [
       "['NAME',\n",
       " 'APPLICATION_TYPE',\n",
       " 'AFFILIATION',\n",
       " 'CLASSIFICATION',\n",
       " 'USE_CASE',\n",
       " 'ORGANIZATION',\n",
       " 'INCOME_AMT',\n",
       " 'SPECIAL_CONSIDERATIONS']"
      ]
     },
     "execution_count": 51,
     "metadata": {},
     "output_type": "execute_result"
    }
   ],
   "source": [
    "# Get all the columns which are categorical\n",
    "categorical_cols = list(application_df.select_dtypes(include=\"object\").columns)\n",
    "categorical_cols"
   ]
  },
  {
   "cell_type": "markdown",
   "id": "adcb4bfc-cc8f-4aa4-82a2-ff1b986110e9",
   "metadata": {},
   "source": [
    "### Limit the Number of Unique Values"
   ]
  },
  {
   "cell_type": "code",
   "execution_count": null,
   "id": "a2b54774-5c88-4733-80b4-8d981bec3149",
   "metadata": {},
   "outputs": [],
   "source": [
    "# Define the upper limit of unique values\n",
    "max_unique = 10"
   ]
  },
  {
   "cell_type": "code",
   "execution_count": null,
   "id": "34ecff4f-affa-42bb-84f3-849c1ad9636b",
   "metadata": {},
   "outputs": [],
   "source": [
    "# Determine number of unique values in each column\n",
    "many_unique = []\n",
    "for col in categorical_cols:\n",
    "    num_unique = len(application_df[col].unique())\n",
    "    \n",
    "    # Append columns which exceed max_unique\n",
    "    if num_unique > max_unique:\n",
    "        many_unique.append(col)\n",
    "        # if col == \"NAME\":\n",
    "        #     continue\n",
    "        # else:\n",
    "        #     many_unique.append(col)\n",
    "    \n",
    "    print(f'{col}: {num_unique}')\n",
    "\n",
    "print(f'\\nColumns with >{max_unique} values: {many_unique}')"
   ]
  },
  {
   "cell_type": "code",
   "execution_count": 52,
   "id": "5ae213b3-54cb-48fd-bb25-7478ee54cade",
   "metadata": {},
   "outputs": [],
   "source": [
    "def limit_unique(df, max_value, columns_to_limit):\n",
    "    \"\"\"\n",
    "    Purpose of the function is to limit the number of unique values\n",
    "    \"\"\"\n",
    "    \n",
    "    # Loop through each column\n",
    "    for col in columns_to_limit:\n",
    "        # Get the value counts of the column\n",
    "        total_counts = df[col].value_counts()\n",
    "        \n",
    "        # Get the top values to retain, not including \"Other\"\n",
    "        top_counts = total_counts[:max_value-1]\n",
    "        \n",
    "        # Define the cutoff\n",
    "        cutoff_value = top_counts.iloc[-1]\n",
    "        \n",
    "        # Create a list of values to replace\n",
    "        replace_values = total_counts.loc[total_counts.values < cutoff_value].index\n",
    "        \n",
    "        # Replace in dataframe\n",
    "        for value in replace_values:\n",
    "            df[col] = df[col].replace(value, \"Other\")\n",
    "        \n",
    "        # Check to make sure binning was successful\n",
    "        print(df[col].value_counts())\n",
    "        print(f'Number of unique values: {df[col].nunique()}\\n')"
   ]
  },
  {
   "cell_type": "code",
   "execution_count": null,
   "id": "25aad93b-b64b-4eaa-afad-6f2c2dd1fb01",
   "metadata": {},
   "outputs": [],
   "source": [
    "# Limit the unique values of columns with >10 unique values\n",
    "limit_unique(application_df, max_unique, many_unique)"
   ]
  },
  {
   "cell_type": "code",
   "execution_count": 53,
   "id": "16ed0127-f4ec-4e62-8623-2917dbc5ad2d",
   "metadata": {},
   "outputs": [
    {
     "name": "stdout",
     "output_type": "stream",
     "text": [
      "APPLICATION_TYPE\n",
      "T3       27037\n",
      "T4        1542\n",
      "T6        1216\n",
      "T5        1173\n",
      "T19       1065\n",
      "T8         737\n",
      "T7         725\n",
      "T10        528\n",
      "T9         156\n",
      "Other      120\n",
      "Name: count, dtype: int64\n",
      "Number of unique values: 10\n",
      "\n",
      "CLASSIFICATION\n",
      "C1000    17326\n",
      "C2000     6074\n",
      "C1200     4837\n",
      "C3000     1918\n",
      "C2100     1883\n",
      "Other      887\n",
      "C7000      777\n",
      "C1700      287\n",
      "C4000      194\n",
      "C5000      116\n",
      "Name: count, dtype: int64\n",
      "Number of unique values: 10\n",
      "\n"
     ]
    }
   ],
   "source": [
    "# Limit APPLICATION_TYPE and CLASSIFICATION to 10 unique values\n",
    "limit_unique(application_df, 10, ['APPLICATION_TYPE', 'CLASSIFICATION'])"
   ]
  },
  {
   "cell_type": "code",
   "execution_count": 54,
   "id": "d3bbcd05-c932-43cd-b45c-20d224063b37",
   "metadata": {},
   "outputs": [
    {
     "name": "stdout",
     "output_type": "stream",
     "text": [
      "NAME\n",
      "Other                                                                 26090\n",
      "PARENT BOOSTER USA INC                                                 1260\n",
      "TOPS CLUB INC                                                           765\n",
      "UNITED STATES BOWLING CONGRESS INC                                      700\n",
      "WASHINGTON STATE UNIVERSITY                                             492\n",
      "AMATEUR ATHLETIC UNION OF THE UNITED STATES INC                         408\n",
      "PTA TEXAS CONGRESS                                                      368\n",
      "SOROPTIMIST INTERNATIONAL OF THE AMERICAS INC                           331\n",
      "ALPHA PHI SIGMA                                                         313\n",
      "TOASTMASTERS INTERNATIONAL                                              293\n",
      "MOST WORSHIPFUL STRINGER FREE AND ACCEPTED MASONS                       287\n",
      "LITTLE LEAGUE BASEBALL INC                                              277\n",
      "INTERNATIONAL ASSOCIATION OF LIONS CLUBS                                266\n",
      "MOMS CLUB                                                               210\n",
      "INTERNATIONAL ASSOCIATION OF SHEET METAL AIR RAIL & TRANSPORTATION      206\n",
      "AMERICAN ASSOCIATION OF UNIVERSITY WOMEN                                197\n",
      "FARMERS EDUCATIONAL AND COOPERATIVE UNION OF AMERICA                    166\n",
      "KNIGHTS OF COLUMBUS                                                     158\n",
      "HABITAT FOR HUMANITY INTERNATIONAL INC                                  154\n",
      "TENNESSEE ORDER OF THE EASTERN STAR                                     151\n",
      "VETERANS OF FOREIGN WARS OF THE UNITED STATES AUXILIARY                 144\n",
      "PTA UTAH CONGRESS                                                       140\n",
      "THE UNITED STATES PONY CLUBS INC                                        136\n",
      "CIVITAN INTERNATIONAL                                                   131\n",
      "SIGMA BETA DELTA INC                                                    127\n",
      "HONOR SOCIETY OF PHI KAPPA PHI                                          107\n",
      "MONTANA 4-H FOUNDATION INC                                              107\n",
      "WASHINGTON STATE GRANGE                                                 106\n",
      "UNIVERSITY OF WYOMING                                                   105\n",
      "DEMOLAY INTERNATIONAL                                                   104\n",
      "Name: count, dtype: int64\n",
      "Number of unique values: 30\n",
      "\n"
     ]
    }
   ],
   "source": [
    "# Limit NAME to 20 unique values\n",
    "limit_unique(application_df, 30, ['NAME'])"
   ]
  },
  {
   "cell_type": "markdown",
   "id": "2a2e10f8-b396-4714-abbe-1e48ed7ab798",
   "metadata": {
    "jp-MarkdownHeadingCollapsed": true,
    "tags": []
   },
   "source": [
    "### Explore the distribution of values"
   ]
  },
  {
   "cell_type": "code",
   "execution_count": null,
   "id": "28ebc713-da59-4b44-b457-cdf5582b53d3",
   "metadata": {},
   "outputs": [],
   "source": [
    "# Explore the distribution of values for each column\n",
    "for col in categorical_cols:\n",
    "    if col in many_unique:\n",
    "        continue\n",
    "    else:\n",
    "        print(application_df[col].value_counts(), '\\n')"
   ]
  },
  {
   "cell_type": "code",
   "execution_count": null,
   "id": "a597dfff-0078-4e0f-abf4-f11c7c0c5fe4",
   "metadata": {},
   "outputs": [],
   "source": [
    "# Explore AFFILIATION\n",
    "counts = application_df['SPECIAL_CONSIDERATIONS'].loc[application_df['IS_SUCCESSFUL'] == 1].value_counts()\n",
    "total_count = application_df['SPECIAL_CONSIDERATIONS'].loc[application_df['IS_SUCCESSFUL'] == 1].count()\n",
    "percentages = counts / total_count * 100\n",
    "\n",
    "print(counts)\n",
    "percentages"
   ]
  },
  {
   "cell_type": "markdown",
   "id": "99bbc848-91f2-4787-9c4d-dc62f4f8ea23",
   "metadata": {},
   "source": [
    "__TEST IDEAS__\n",
    "\n",
    "- Test whether removing these imbalanced columns will improve performance.\n",
    "- Test whether one-hot encoding or label encoding will be better.\n",
    "\n",
    "__Hypothesis__: Although label encoding seems more logical (since binary), it might be better to use one-hot encoding to prevent the \"heavier\" weighting to the '1' value compared to '0'."
   ]
  },
  {
   "cell_type": "markdown",
   "id": "a3c09370-9cbe-4ca2-b5b1-8d6e06633ea2",
   "metadata": {
    "jp-MarkdownHeadingCollapsed": true,
    "tags": []
   },
   "source": [
    "### Explore discrepancy in `INCOME_AMT`\n",
    "- There is no data on: `500000-1M`\n",
    "- Solution: Convert to ordinal encoding to account for this"
   ]
  },
  {
   "cell_type": "code",
   "execution_count": null,
   "id": "e61225fd-5b5b-4df7-a400-1b4f97bdd935",
   "metadata": {},
   "outputs": [],
   "source": [
    "# Convert each value to an ordinal score\n",
    "income_map = {\n",
    "    '0': 0,\n",
    "    '1-9999': 1,\n",
    "    '10000-24999': 2,\n",
    "    '25000-99999': 3,\n",
    "    '100000-499999': 4,\n",
    "    '500000-1M': 5, # No data in this category\n",
    "    '1M-5M': 6,\n",
    "    '5M-10M': 7,\n",
    "    '10M-50M': 8,\n",
    "    '50M+': 9\n",
    "}\n",
    "application_df['ORDINAL_INCOME_AMT'] = application_df['INCOME_AMT'].map(income_map)"
   ]
  },
  {
   "cell_type": "markdown",
   "id": "d6b5edb6-8820-458d-b59f-fc95b8c3fec0",
   "metadata": {},
   "source": [
    "__TEST IDEA__\n",
    "\n",
    "Explore whether there is an effect to dropping the `INCOME_AMT`."
   ]
  },
  {
   "cell_type": "markdown",
   "id": "cdd7c4a3-bae4-4924-ad48-caef705ef8ed",
   "metadata": {
    "jp-MarkdownHeadingCollapsed": true,
    "tags": []
   },
   "source": [
    "### Compare `ASK_AMT` to `INCOME_AMT`"
   ]
  },
  {
   "cell_type": "code",
   "execution_count": null,
   "id": "32b58c94-aaa8-43ad-a448-24aa1b840b89",
   "metadata": {},
   "outputs": [],
   "source": [
    "# Display all possible values for INCOME_AMT\n",
    "application_df['INCOME_AMT'].value_counts()"
   ]
  },
  {
   "cell_type": "code",
   "execution_count": null,
   "id": "5256e196-4c0b-4c57-96e2-734415323425",
   "metadata": {},
   "outputs": [],
   "source": [
    "# Split the bounded values by the hyphen and create new columns\n",
    "application_df[['LOWER_INCOME', 'UPPER_INCOME']] = application_df['INCOME_AMT'].str.split('-', expand=True)"
   ]
  },
  {
   "cell_type": "code",
   "execution_count": null,
   "id": "f6f56676-f1d6-418e-9fe2-d5f2716b56b2",
   "metadata": {},
   "outputs": [],
   "source": [
    "# If INCOME_AMT contains \"M\", convert to e6.\n",
    "application_df['UPPER_INCOME'] = application_df['UPPER_INCOME'].str.replace('M', 'e6')\n",
    "application_df['LOWER_INCOME'] = application_df['LOWER_INCOME'].str.replace('M', 'e6')\n",
    "\n",
    "# Confirm changes\n",
    "display(application_df[['LOWER_INCOME', 'UPPER_INCOME']].value_counts())\n",
    "application_df.head()"
   ]
  },
  {
   "cell_type": "code",
   "execution_count": null,
   "id": "142b26a1-38e1-472e-88a6-b0f48011b184",
   "metadata": {},
   "outputs": [],
   "source": [
    "# Address 'None' values in UPPER_INCOME. If INCOME_AMT is '0', set UPPER_INCOME to 0.\n",
    "application_df.loc[application_df['LOWER_INCOME'] == '0', 'UPPER_INCOME'] = 0\n",
    "application_df.head()"
   ]
  },
  {
   "cell_type": "code",
   "execution_count": null,
   "id": "f6d2ceb3-e51a-46a6-bd3a-2c76f5c7a72c",
   "metadata": {},
   "outputs": [],
   "source": [
    "# Address INCOME_AMT values with `50M+`\n",
    "application_df.loc[application_df['INCOME_AMT'] == '50M+']\n",
    "\n",
    "# Convert UPPER_INCOME NaN values to 100M\n",
    "application_df.loc[application_df['INCOME_AMT'] == '50M+', 'UPPER_INCOME'] = 1000e6\n",
    "\n",
    "# Convert to '50M+' to 50e6\n",
    "application_df['LOWER_INCOME'] = application_df['LOWER_INCOME'].replace('50e6+', '50e6')\n",
    "\n",
    "# Convert column to integer\n",
    "application_df['LOWER_INCOME'] = pd.to_numeric(application_df['LOWER_INCOME']).astype(int)\n",
    "application_df['UPPER_INCOME'] = pd.to_numeric(application_df['UPPER_INCOME']).astype(int)"
   ]
  },
  {
   "cell_type": "code",
   "execution_count": null,
   "id": "16f29b14-3cbe-491b-8b52-85fbe33789e7",
   "metadata": {},
   "outputs": [],
   "source": [
    "# Create a new column that compares the ASK_AMT to LOWER_INCOME\n",
    "application_df['ASK_VS_INCOME'] = application_df['ASK_AMT'] > application_df['LOWER_INCOME']\n",
    "\n",
    "# Convert boolean to Y/N for consistency\n",
    "application_df['ASK_VS_INCOME'] = application_df['ASK_VS_INCOME'].map({\n",
    "    False: 'N',\n",
    "    True: 'Y'\n",
    "})\n",
    "\n",
    "# Display updated dataframe\n",
    "application_df.head()"
   ]
  },
  {
   "cell_type": "code",
   "execution_count": null,
   "id": "6cf39a12-ae85-4b16-b122-50b200628181",
   "metadata": {},
   "outputs": [],
   "source": [
    "application_df['ASK_VS_INCOME'].value_counts()"
   ]
  },
  {
   "cell_type": "markdown",
   "id": "09b33bfa-9f0b-4491-91d7-dd314a477dca",
   "metadata": {
    "jp-MarkdownHeadingCollapsed": true,
    "tags": []
   },
   "source": [
    "### AFFILIATION vs ORGANIZATION"
   ]
  },
  {
   "cell_type": "code",
   "execution_count": null,
   "id": "37652656-ff44-4e2d-8678-3402744ead6e",
   "metadata": {},
   "outputs": [],
   "source": [
    "application_df['AFFILIATION'].value_counts()"
   ]
  },
  {
   "cell_type": "code",
   "execution_count": null,
   "id": "ec8cf761-685d-4878-ab11-27c5c2890617",
   "metadata": {},
   "outputs": [],
   "source": [
    "application_df['ORGANIZATION'].value_counts()"
   ]
  },
  {
   "cell_type": "code",
   "execution_count": null,
   "id": "7270ce9e-8745-4cbe-82d4-583e79826bff",
   "metadata": {},
   "outputs": [],
   "source": [
    "application_df['AFFILIATION_ORGANIZATION'] = application_df['AFFILIATION'] + \"_\" + application_df['ORGANIZATION']\n",
    "application_df['AFFILIATION_ORGANIZATION'].value_counts()"
   ]
  },
  {
   "cell_type": "code",
   "execution_count": null,
   "id": "9af9381b-812c-4bcb-af54-c98d0b7753f1",
   "metadata": {},
   "outputs": [],
   "source": [
    "limit_unique(application_df, max_unique, ['AFFILIATION_ORGANIZATION'])"
   ]
  },
  {
   "cell_type": "markdown",
   "id": "71086ac0-e1cb-40a8-853e-c56a39da9c3a",
   "metadata": {
    "jp-MarkdownHeadingCollapsed": true,
    "tags": []
   },
   "source": [
    "### AFFILIATION vs USE_CASE"
   ]
  },
  {
   "cell_type": "code",
   "execution_count": null,
   "id": "936c46d6-6d09-43ee-b900-081faf6c463f",
   "metadata": {},
   "outputs": [],
   "source": [
    "application_df['AFFILIATION_USECASE'] = application_df['AFFILIATION'] + \"_\" + application_df['USE_CASE']\n",
    "application_df['AFFILIATION_USECASE'].value_counts()"
   ]
  },
  {
   "cell_type": "code",
   "execution_count": null,
   "id": "f2de619c-55ed-401a-9d25-27c7e8dcda58",
   "metadata": {},
   "outputs": [],
   "source": [
    "limit_unique(application_df, max_unique, ['AFFILIATION_USECASE'])"
   ]
  },
  {
   "cell_type": "markdown",
   "id": "6753ff52-2b16-4c0e-a115-abf40148b03f",
   "metadata": {},
   "source": [
    "## Encoding"
   ]
  },
  {
   "cell_type": "code",
   "execution_count": 55,
   "id": "ea2bf8f8-f38b-4d2e-9eb6-265f3daa0b6f",
   "metadata": {},
   "outputs": [
    {
     "name": "stdout",
     "output_type": "stream",
     "text": [
      "<class 'pandas.core.frame.DataFrame'>\n",
      "RangeIndex: 34299 entries, 0 to 34298\n",
      "Data columns (total 11 columns):\n",
      " #   Column                  Non-Null Count  Dtype \n",
      "---  ------                  --------------  ----- \n",
      " 0   NAME                    34299 non-null  object\n",
      " 1   APPLICATION_TYPE        34299 non-null  object\n",
      " 2   AFFILIATION             34299 non-null  object\n",
      " 3   CLASSIFICATION          34299 non-null  object\n",
      " 4   USE_CASE                34299 non-null  object\n",
      " 5   ORGANIZATION            34299 non-null  object\n",
      " 6   STATUS                  34299 non-null  int64 \n",
      " 7   INCOME_AMT              34299 non-null  object\n",
      " 8   SPECIAL_CONSIDERATIONS  34299 non-null  object\n",
      " 9   ASK_AMT                 34299 non-null  int64 \n",
      " 10  IS_SUCCESSFUL           34299 non-null  int64 \n",
      "dtypes: int64(3), object(8)\n",
      "memory usage: 2.9+ MB\n"
     ]
    }
   ],
   "source": [
    "# Check datatypes before encoding\n",
    "application_df.info()"
   ]
  },
  {
   "cell_type": "code",
   "execution_count": 56,
   "id": "1e8e164c-a15f-4852-86c3-412e6423b8cc",
   "metadata": {},
   "outputs": [
    {
     "data": {
      "text/plain": [
       "['NAME',\n",
       " 'APPLICATION_TYPE',\n",
       " 'AFFILIATION',\n",
       " 'CLASSIFICATION',\n",
       " 'USE_CASE',\n",
       " 'ORGANIZATION',\n",
       " 'INCOME_AMT',\n",
       " 'SPECIAL_CONSIDERATIONS']"
      ]
     },
     "execution_count": 56,
     "metadata": {},
     "output_type": "execute_result"
    }
   ],
   "source": [
    "# Get all the columns which are categorical\n",
    "categorical_hot = list(application_df.select_dtypes(include=\"object\").columns)\n",
    "categorical_hot"
   ]
  },
  {
   "cell_type": "code",
   "execution_count": 57,
   "id": "6c40bbbf-9219-4882-80ad-f694e2b20262",
   "metadata": {},
   "outputs": [
    {
     "data": {
      "text/html": [
       "<div>\n",
       "<style scoped>\n",
       "    .dataframe tbody tr th:only-of-type {\n",
       "        vertical-align: middle;\n",
       "    }\n",
       "\n",
       "    .dataframe tbody tr th {\n",
       "        vertical-align: top;\n",
       "    }\n",
       "\n",
       "    .dataframe thead th {\n",
       "        text-align: right;\n",
       "    }\n",
       "</style>\n",
       "<table border=\"1\" class=\"dataframe\">\n",
       "  <thead>\n",
       "    <tr style=\"text-align: right;\">\n",
       "      <th></th>\n",
       "      <th>NAME_ALPHA PHI SIGMA</th>\n",
       "      <th>NAME_AMATEUR ATHLETIC UNION OF THE UNITED STATES INC</th>\n",
       "      <th>NAME_AMERICAN ASSOCIATION OF UNIVERSITY WOMEN</th>\n",
       "      <th>NAME_CIVITAN INTERNATIONAL</th>\n",
       "      <th>NAME_DEMOLAY INTERNATIONAL</th>\n",
       "      <th>NAME_FARMERS EDUCATIONAL AND COOPERATIVE UNION OF AMERICA</th>\n",
       "      <th>NAME_HABITAT FOR HUMANITY INTERNATIONAL INC</th>\n",
       "      <th>NAME_HONOR SOCIETY OF PHI KAPPA PHI</th>\n",
       "      <th>NAME_INTERNATIONAL ASSOCIATION OF LIONS CLUBS</th>\n",
       "      <th>NAME_INTERNATIONAL ASSOCIATION OF SHEET METAL AIR RAIL &amp; TRANSPORTATION</th>\n",
       "      <th>...</th>\n",
       "      <th>INCOME_AMT_1-9999</th>\n",
       "      <th>INCOME_AMT_10000-24999</th>\n",
       "      <th>INCOME_AMT_100000-499999</th>\n",
       "      <th>INCOME_AMT_10M-50M</th>\n",
       "      <th>INCOME_AMT_1M-5M</th>\n",
       "      <th>INCOME_AMT_25000-99999</th>\n",
       "      <th>INCOME_AMT_50M+</th>\n",
       "      <th>INCOME_AMT_5M-10M</th>\n",
       "      <th>SPECIAL_CONSIDERATIONS_N</th>\n",
       "      <th>SPECIAL_CONSIDERATIONS_Y</th>\n",
       "    </tr>\n",
       "  </thead>\n",
       "  <tbody>\n",
       "    <tr>\n",
       "      <th>0</th>\n",
       "      <td>0</td>\n",
       "      <td>0</td>\n",
       "      <td>0</td>\n",
       "      <td>0</td>\n",
       "      <td>0</td>\n",
       "      <td>0</td>\n",
       "      <td>0</td>\n",
       "      <td>0</td>\n",
       "      <td>0</td>\n",
       "      <td>0</td>\n",
       "      <td>...</td>\n",
       "      <td>0</td>\n",
       "      <td>0</td>\n",
       "      <td>0</td>\n",
       "      <td>0</td>\n",
       "      <td>0</td>\n",
       "      <td>0</td>\n",
       "      <td>0</td>\n",
       "      <td>0</td>\n",
       "      <td>1</td>\n",
       "      <td>0</td>\n",
       "    </tr>\n",
       "    <tr>\n",
       "      <th>1</th>\n",
       "      <td>0</td>\n",
       "      <td>0</td>\n",
       "      <td>0</td>\n",
       "      <td>0</td>\n",
       "      <td>0</td>\n",
       "      <td>0</td>\n",
       "      <td>0</td>\n",
       "      <td>0</td>\n",
       "      <td>0</td>\n",
       "      <td>0</td>\n",
       "      <td>...</td>\n",
       "      <td>1</td>\n",
       "      <td>0</td>\n",
       "      <td>0</td>\n",
       "      <td>0</td>\n",
       "      <td>0</td>\n",
       "      <td>0</td>\n",
       "      <td>0</td>\n",
       "      <td>0</td>\n",
       "      <td>1</td>\n",
       "      <td>0</td>\n",
       "    </tr>\n",
       "    <tr>\n",
       "      <th>2</th>\n",
       "      <td>0</td>\n",
       "      <td>0</td>\n",
       "      <td>0</td>\n",
       "      <td>0</td>\n",
       "      <td>0</td>\n",
       "      <td>0</td>\n",
       "      <td>0</td>\n",
       "      <td>0</td>\n",
       "      <td>0</td>\n",
       "      <td>0</td>\n",
       "      <td>...</td>\n",
       "      <td>0</td>\n",
       "      <td>0</td>\n",
       "      <td>0</td>\n",
       "      <td>0</td>\n",
       "      <td>0</td>\n",
       "      <td>0</td>\n",
       "      <td>0</td>\n",
       "      <td>0</td>\n",
       "      <td>1</td>\n",
       "      <td>0</td>\n",
       "    </tr>\n",
       "    <tr>\n",
       "      <th>3</th>\n",
       "      <td>0</td>\n",
       "      <td>0</td>\n",
       "      <td>0</td>\n",
       "      <td>0</td>\n",
       "      <td>0</td>\n",
       "      <td>0</td>\n",
       "      <td>0</td>\n",
       "      <td>0</td>\n",
       "      <td>0</td>\n",
       "      <td>0</td>\n",
       "      <td>...</td>\n",
       "      <td>0</td>\n",
       "      <td>1</td>\n",
       "      <td>0</td>\n",
       "      <td>0</td>\n",
       "      <td>0</td>\n",
       "      <td>0</td>\n",
       "      <td>0</td>\n",
       "      <td>0</td>\n",
       "      <td>1</td>\n",
       "      <td>0</td>\n",
       "    </tr>\n",
       "    <tr>\n",
       "      <th>4</th>\n",
       "      <td>0</td>\n",
       "      <td>0</td>\n",
       "      <td>0</td>\n",
       "      <td>0</td>\n",
       "      <td>0</td>\n",
       "      <td>0</td>\n",
       "      <td>0</td>\n",
       "      <td>0</td>\n",
       "      <td>0</td>\n",
       "      <td>0</td>\n",
       "      <td>...</td>\n",
       "      <td>0</td>\n",
       "      <td>0</td>\n",
       "      <td>1</td>\n",
       "      <td>0</td>\n",
       "      <td>0</td>\n",
       "      <td>0</td>\n",
       "      <td>0</td>\n",
       "      <td>0</td>\n",
       "      <td>1</td>\n",
       "      <td>0</td>\n",
       "    </tr>\n",
       "  </tbody>\n",
       "</table>\n",
       "<p>5 rows × 76 columns</p>\n",
       "</div>"
      ],
      "text/plain": [
       "   NAME_ALPHA PHI SIGMA  NAME_AMATEUR ATHLETIC UNION OF THE UNITED STATES INC  \\\n",
       "0                     0                                                  0      \n",
       "1                     0                                                  0      \n",
       "2                     0                                                  0      \n",
       "3                     0                                                  0      \n",
       "4                     0                                                  0      \n",
       "\n",
       "   NAME_AMERICAN ASSOCIATION OF UNIVERSITY WOMEN  NAME_CIVITAN INTERNATIONAL  \\\n",
       "0                                              0                           0   \n",
       "1                                              0                           0   \n",
       "2                                              0                           0   \n",
       "3                                              0                           0   \n",
       "4                                              0                           0   \n",
       "\n",
       "   NAME_DEMOLAY INTERNATIONAL  \\\n",
       "0                           0   \n",
       "1                           0   \n",
       "2                           0   \n",
       "3                           0   \n",
       "4                           0   \n",
       "\n",
       "   NAME_FARMERS EDUCATIONAL AND COOPERATIVE UNION OF AMERICA  \\\n",
       "0                                                  0           \n",
       "1                                                  0           \n",
       "2                                                  0           \n",
       "3                                                  0           \n",
       "4                                                  0           \n",
       "\n",
       "   NAME_HABITAT FOR HUMANITY INTERNATIONAL INC  \\\n",
       "0                                            0   \n",
       "1                                            0   \n",
       "2                                            0   \n",
       "3                                            0   \n",
       "4                                            0   \n",
       "\n",
       "   NAME_HONOR SOCIETY OF PHI KAPPA PHI  \\\n",
       "0                                    0   \n",
       "1                                    0   \n",
       "2                                    0   \n",
       "3                                    0   \n",
       "4                                    0   \n",
       "\n",
       "   NAME_INTERNATIONAL ASSOCIATION OF LIONS CLUBS  \\\n",
       "0                                              0   \n",
       "1                                              0   \n",
       "2                                              0   \n",
       "3                                              0   \n",
       "4                                              0   \n",
       "\n",
       "   NAME_INTERNATIONAL ASSOCIATION OF SHEET METAL AIR RAIL & TRANSPORTATION  \\\n",
       "0                                                  0                         \n",
       "1                                                  0                         \n",
       "2                                                  0                         \n",
       "3                                                  0                         \n",
       "4                                                  0                         \n",
       "\n",
       "   ...  INCOME_AMT_1-9999  INCOME_AMT_10000-24999  INCOME_AMT_100000-499999  \\\n",
       "0  ...                  0                       0                         0   \n",
       "1  ...                  1                       0                         0   \n",
       "2  ...                  0                       0                         0   \n",
       "3  ...                  0                       1                         0   \n",
       "4  ...                  0                       0                         1   \n",
       "\n",
       "   INCOME_AMT_10M-50M  INCOME_AMT_1M-5M  INCOME_AMT_25000-99999  \\\n",
       "0                   0                 0                       0   \n",
       "1                   0                 0                       0   \n",
       "2                   0                 0                       0   \n",
       "3                   0                 0                       0   \n",
       "4                   0                 0                       0   \n",
       "\n",
       "   INCOME_AMT_50M+  INCOME_AMT_5M-10M  SPECIAL_CONSIDERATIONS_N  \\\n",
       "0                0                  0                         1   \n",
       "1                0                  0                         1   \n",
       "2                0                  0                         1   \n",
       "3                0                  0                         1   \n",
       "4                0                  0                         1   \n",
       "\n",
       "   SPECIAL_CONSIDERATIONS_Y  \n",
       "0                         0  \n",
       "1                         0  \n",
       "2                         0  \n",
       "3                         0  \n",
       "4                         0  \n",
       "\n",
       "[5 rows x 76 columns]"
      ]
     },
     "execution_count": 57,
     "metadata": {},
     "output_type": "execute_result"
    }
   ],
   "source": [
    "# Convert categorical data to numeric with `pd.get_dummies`\n",
    "encoded_columns = pd.get_dummies(application_df[categorical_hot]).astype(int)\n",
    "encoded_columns.head()"
   ]
  },
  {
   "cell_type": "markdown",
   "id": "c4d92502-da59-4b1b-8edc-17bc9bcfb348",
   "metadata": {},
   "source": [
    "## Split and Scale the Dataset"
   ]
  },
  {
   "cell_type": "code",
   "execution_count": 58,
   "id": "aee99e06-cc30-408b-996c-922db1a0683d",
   "metadata": {},
   "outputs": [],
   "source": [
    "# Split our preprocessed data into our features and target arrays\n",
    "\n",
    "# Isolate the target array\n",
    "y = application_df['IS_SUCCESSFUL']\n",
    "\n",
    "# Isolate the feature array\n",
    "X = application_df.drop(columns=['IS_SUCCESSFUL'])\n",
    "\n",
    "# Replace features with encoded equivalents\n",
    "X.drop(categorical_hot, axis=1, inplace=True)\n",
    "\n",
    "# Calculate updated feature array\n",
    "X = pd.concat([X, encoded_columns], axis=1)\n",
    "\n",
    "# Split the preprocessed data into a training and testing dataset\n",
    "X_train, X_test, y_train, y_test = train_test_split(X, y, stratify=y)"
   ]
  },
  {
   "cell_type": "code",
   "execution_count": 59,
   "id": "92b218aa-cd49-410b-8825-f92bb820bfaa",
   "metadata": {},
   "outputs": [
    {
     "data": {
      "text/html": [
       "<div>\n",
       "<style scoped>\n",
       "    .dataframe tbody tr th:only-of-type {\n",
       "        vertical-align: middle;\n",
       "    }\n",
       "\n",
       "    .dataframe tbody tr th {\n",
       "        vertical-align: top;\n",
       "    }\n",
       "\n",
       "    .dataframe thead th {\n",
       "        text-align: right;\n",
       "    }\n",
       "</style>\n",
       "<table border=\"1\" class=\"dataframe\">\n",
       "  <thead>\n",
       "    <tr style=\"text-align: right;\">\n",
       "      <th></th>\n",
       "      <th>STATUS</th>\n",
       "      <th>ASK_AMT</th>\n",
       "      <th>NAME_ALPHA PHI SIGMA</th>\n",
       "      <th>NAME_AMATEUR ATHLETIC UNION OF THE UNITED STATES INC</th>\n",
       "      <th>NAME_AMERICAN ASSOCIATION OF UNIVERSITY WOMEN</th>\n",
       "      <th>NAME_CIVITAN INTERNATIONAL</th>\n",
       "      <th>NAME_DEMOLAY INTERNATIONAL</th>\n",
       "      <th>NAME_FARMERS EDUCATIONAL AND COOPERATIVE UNION OF AMERICA</th>\n",
       "      <th>NAME_HABITAT FOR HUMANITY INTERNATIONAL INC</th>\n",
       "      <th>NAME_HONOR SOCIETY OF PHI KAPPA PHI</th>\n",
       "      <th>...</th>\n",
       "      <th>INCOME_AMT_1-9999</th>\n",
       "      <th>INCOME_AMT_10000-24999</th>\n",
       "      <th>INCOME_AMT_100000-499999</th>\n",
       "      <th>INCOME_AMT_10M-50M</th>\n",
       "      <th>INCOME_AMT_1M-5M</th>\n",
       "      <th>INCOME_AMT_25000-99999</th>\n",
       "      <th>INCOME_AMT_50M+</th>\n",
       "      <th>INCOME_AMT_5M-10M</th>\n",
       "      <th>SPECIAL_CONSIDERATIONS_N</th>\n",
       "      <th>SPECIAL_CONSIDERATIONS_Y</th>\n",
       "    </tr>\n",
       "  </thead>\n",
       "  <tbody>\n",
       "    <tr>\n",
       "      <th>0</th>\n",
       "      <td>1</td>\n",
       "      <td>5000</td>\n",
       "      <td>0</td>\n",
       "      <td>0</td>\n",
       "      <td>0</td>\n",
       "      <td>0</td>\n",
       "      <td>0</td>\n",
       "      <td>0</td>\n",
       "      <td>0</td>\n",
       "      <td>0</td>\n",
       "      <td>...</td>\n",
       "      <td>0</td>\n",
       "      <td>0</td>\n",
       "      <td>0</td>\n",
       "      <td>0</td>\n",
       "      <td>0</td>\n",
       "      <td>0</td>\n",
       "      <td>0</td>\n",
       "      <td>0</td>\n",
       "      <td>1</td>\n",
       "      <td>0</td>\n",
       "    </tr>\n",
       "    <tr>\n",
       "      <th>1</th>\n",
       "      <td>1</td>\n",
       "      <td>108590</td>\n",
       "      <td>0</td>\n",
       "      <td>0</td>\n",
       "      <td>0</td>\n",
       "      <td>0</td>\n",
       "      <td>0</td>\n",
       "      <td>0</td>\n",
       "      <td>0</td>\n",
       "      <td>0</td>\n",
       "      <td>...</td>\n",
       "      <td>1</td>\n",
       "      <td>0</td>\n",
       "      <td>0</td>\n",
       "      <td>0</td>\n",
       "      <td>0</td>\n",
       "      <td>0</td>\n",
       "      <td>0</td>\n",
       "      <td>0</td>\n",
       "      <td>1</td>\n",
       "      <td>0</td>\n",
       "    </tr>\n",
       "    <tr>\n",
       "      <th>2</th>\n",
       "      <td>1</td>\n",
       "      <td>5000</td>\n",
       "      <td>0</td>\n",
       "      <td>0</td>\n",
       "      <td>0</td>\n",
       "      <td>0</td>\n",
       "      <td>0</td>\n",
       "      <td>0</td>\n",
       "      <td>0</td>\n",
       "      <td>0</td>\n",
       "      <td>...</td>\n",
       "      <td>0</td>\n",
       "      <td>0</td>\n",
       "      <td>0</td>\n",
       "      <td>0</td>\n",
       "      <td>0</td>\n",
       "      <td>0</td>\n",
       "      <td>0</td>\n",
       "      <td>0</td>\n",
       "      <td>1</td>\n",
       "      <td>0</td>\n",
       "    </tr>\n",
       "    <tr>\n",
       "      <th>3</th>\n",
       "      <td>1</td>\n",
       "      <td>6692</td>\n",
       "      <td>0</td>\n",
       "      <td>0</td>\n",
       "      <td>0</td>\n",
       "      <td>0</td>\n",
       "      <td>0</td>\n",
       "      <td>0</td>\n",
       "      <td>0</td>\n",
       "      <td>0</td>\n",
       "      <td>...</td>\n",
       "      <td>0</td>\n",
       "      <td>1</td>\n",
       "      <td>0</td>\n",
       "      <td>0</td>\n",
       "      <td>0</td>\n",
       "      <td>0</td>\n",
       "      <td>0</td>\n",
       "      <td>0</td>\n",
       "      <td>1</td>\n",
       "      <td>0</td>\n",
       "    </tr>\n",
       "    <tr>\n",
       "      <th>4</th>\n",
       "      <td>1</td>\n",
       "      <td>142590</td>\n",
       "      <td>0</td>\n",
       "      <td>0</td>\n",
       "      <td>0</td>\n",
       "      <td>0</td>\n",
       "      <td>0</td>\n",
       "      <td>0</td>\n",
       "      <td>0</td>\n",
       "      <td>0</td>\n",
       "      <td>...</td>\n",
       "      <td>0</td>\n",
       "      <td>0</td>\n",
       "      <td>1</td>\n",
       "      <td>0</td>\n",
       "      <td>0</td>\n",
       "      <td>0</td>\n",
       "      <td>0</td>\n",
       "      <td>0</td>\n",
       "      <td>1</td>\n",
       "      <td>0</td>\n",
       "    </tr>\n",
       "  </tbody>\n",
       "</table>\n",
       "<p>5 rows × 78 columns</p>\n",
       "</div>"
      ],
      "text/plain": [
       "   STATUS  ASK_AMT  NAME_ALPHA PHI SIGMA  \\\n",
       "0       1     5000                     0   \n",
       "1       1   108590                     0   \n",
       "2       1     5000                     0   \n",
       "3       1     6692                     0   \n",
       "4       1   142590                     0   \n",
       "\n",
       "   NAME_AMATEUR ATHLETIC UNION OF THE UNITED STATES INC  \\\n",
       "0                                                  0      \n",
       "1                                                  0      \n",
       "2                                                  0      \n",
       "3                                                  0      \n",
       "4                                                  0      \n",
       "\n",
       "   NAME_AMERICAN ASSOCIATION OF UNIVERSITY WOMEN  NAME_CIVITAN INTERNATIONAL  \\\n",
       "0                                              0                           0   \n",
       "1                                              0                           0   \n",
       "2                                              0                           0   \n",
       "3                                              0                           0   \n",
       "4                                              0                           0   \n",
       "\n",
       "   NAME_DEMOLAY INTERNATIONAL  \\\n",
       "0                           0   \n",
       "1                           0   \n",
       "2                           0   \n",
       "3                           0   \n",
       "4                           0   \n",
       "\n",
       "   NAME_FARMERS EDUCATIONAL AND COOPERATIVE UNION OF AMERICA  \\\n",
       "0                                                  0           \n",
       "1                                                  0           \n",
       "2                                                  0           \n",
       "3                                                  0           \n",
       "4                                                  0           \n",
       "\n",
       "   NAME_HABITAT FOR HUMANITY INTERNATIONAL INC  \\\n",
       "0                                            0   \n",
       "1                                            0   \n",
       "2                                            0   \n",
       "3                                            0   \n",
       "4                                            0   \n",
       "\n",
       "   NAME_HONOR SOCIETY OF PHI KAPPA PHI  ...  INCOME_AMT_1-9999  \\\n",
       "0                                    0  ...                  0   \n",
       "1                                    0  ...                  1   \n",
       "2                                    0  ...                  0   \n",
       "3                                    0  ...                  0   \n",
       "4                                    0  ...                  0   \n",
       "\n",
       "   INCOME_AMT_10000-24999  INCOME_AMT_100000-499999  INCOME_AMT_10M-50M  \\\n",
       "0                       0                         0                   0   \n",
       "1                       0                         0                   0   \n",
       "2                       0                         0                   0   \n",
       "3                       1                         0                   0   \n",
       "4                       0                         1                   0   \n",
       "\n",
       "   INCOME_AMT_1M-5M  INCOME_AMT_25000-99999  INCOME_AMT_50M+  \\\n",
       "0                 0                       0                0   \n",
       "1                 0                       0                0   \n",
       "2                 0                       0                0   \n",
       "3                 0                       0                0   \n",
       "4                 0                       0                0   \n",
       "\n",
       "   INCOME_AMT_5M-10M  SPECIAL_CONSIDERATIONS_N  SPECIAL_CONSIDERATIONS_Y  \n",
       "0                  0                         1                         0  \n",
       "1                  0                         1                         0  \n",
       "2                  0                         1                         0  \n",
       "3                  0                         1                         0  \n",
       "4                  0                         1                         0  \n",
       "\n",
       "[5 rows x 78 columns]"
      ]
     },
     "execution_count": 59,
     "metadata": {},
     "output_type": "execute_result"
    }
   ],
   "source": [
    "# Display the feature array\n",
    "X.head()"
   ]
  },
  {
   "cell_type": "code",
   "execution_count": 60,
   "id": "92e3d94a-11fb-4751-81d0-04b956f7a265",
   "metadata": {},
   "outputs": [],
   "source": [
    "# Create a StandardScaler instances\n",
    "scaler = StandardScaler()\n",
    "\n",
    "# Fit the StandardScaler\n",
    "X_scaler = scaler.fit(X_train)\n",
    "\n",
    "# Scale the data\n",
    "X_train_scaled = X_scaler.transform(X_train)\n",
    "X_test_scaled = X_scaler.transform(X_test)"
   ]
  },
  {
   "cell_type": "markdown",
   "id": "bff231f4-e384-44c9-b543-2317dfb8a958",
   "metadata": {},
   "source": [
    "# Tuning"
   ]
  },
  {
   "cell_type": "code",
   "execution_count": 61,
   "id": "360fd9ed-db75-4e54-b9cf-78409218e91d",
   "metadata": {},
   "outputs": [],
   "source": [
    "# Define the model parameters\n",
    "number_input_features = len(X_train.columns)\n",
    "max_hidden_layers = 3 # lowest value permitted is 2, min. required for DL\n",
    "max_num_neurons = number_input_features * 2 - 1\n",
    "step_count = 5\n",
    "activation_functions = [\n",
    "    'relu', 'leaky_relu', 'tanh',\n",
    "    'elu', 'selu', 'exponential',\n",
    "    'softmax', 'softplus'\n",
    "]\n",
    "optimiser = \"Adam\""
   ]
  },
  {
   "cell_type": "code",
   "execution_count": 62,
   "id": "b251cfe0-bfc9-480d-be09-23be483df664",
   "metadata": {},
   "outputs": [],
   "source": [
    "def create_model(hp):\n",
    "    nn_model = tf.keras.models.Sequential()\n",
    "    \n",
    "    # Choose activation function in hidden layers\n",
    "    activation_first_hidden = hp.Choice('activation_layer_0', activation_functions)\n",
    "    \n",
    "    # Allow kerastuner to decide number of neurons in first layer\n",
    "    nn_model.add(tf.keras.layers.Dense(\n",
    "        units = hp.Int(\n",
    "            'units_layer_0',\n",
    "            min_value = 1,\n",
    "            max_value = max_num_neurons,\n",
    "            step = step_count),\n",
    "        activation = activation_first_hidden,\n",
    "        # kernel_regularizer = tf.keras.regularizers.L1(0.01),\n",
    "        input_dim = number_input_features\n",
    "    ))\n",
    "    \n",
    "    # # Tune whether to use dropout based on the Boolean hyperparameter\n",
    "    # if hp.Boolean(\"use_dropout\"):\n",
    "    #     # Add a dropout layer if the Boolean hyperparameter is True\n",
    "    #     nn_model.add(layers.Dropout(rate=0.5))  # Adjust the dropout rate as needed\n",
    "    \n",
    "    # Allow kerastuner to decide number of hidden layers and neurons in hidden layers\n",
    "    num_layers = hp.Int('num_layers', 1, max_hidden_layers-1) # options: 1, 2\n",
    "    \n",
    "    for i in range(1, num_layers+1): # i-values: 1, 2 only\n",
    "        # Choose the number of neurons per layer\n",
    "        units_layer_i = hp.Int(\n",
    "            f'units_layer_{i}',\n",
    "            min_value = 1,\n",
    "            max_value = max_num_neurons,\n",
    "            step = step_count\n",
    "        )\n",
    "        \n",
    "        # Choose a different activation function for each layer\n",
    "        activation_layer_i = hp.Choice(f'activation_layer_{i}', activation_functions)\n",
    "\n",
    "        nn_model.add(tf.keras.layers.Dense(\n",
    "            units = units_layer_i,\n",
    "            activation = activation_layer_i\n",
    "        ))\n",
    "        \n",
    "        # # Tune whether to use dropout based on the Boolean hyperparameter\n",
    "        # if hp.Boolean(\"use_dropout\"):\n",
    "        #     # Add a dropout layer if the Boolean hyperparameter is True\n",
    "        #     nn_model.add(layers.Dropout(rate=0.5))  # Adjust the dropout rate as needed\n",
    "\n",
    "    # Add the output layer\n",
    "    nn_model.add(tf.keras.layers.Dense(\n",
    "        units = 1,\n",
    "        activation = \"sigmoid\"\n",
    "    ))\n",
    "\n",
    "    # Compile the model\n",
    "    nn_model.compile(\n",
    "        loss = \"binary_crossentropy\",\n",
    "        optimizer = optimiser,\n",
    "        metrics = [\"accuracy\"]\n",
    "    )\n",
    "    \n",
    "    return(nn_model)"
   ]
  },
  {
   "cell_type": "code",
   "execution_count": 63,
   "id": "ea07f03e-19e6-41f7-8c2a-dda6247fd358",
   "metadata": {},
   "outputs": [],
   "source": [
    "# Initialise the Hyperband tuner\n",
    "tuner = kt.Hyperband(\n",
    "    create_model,\n",
    "    objective = \"val_accuracy\",\n",
    "    max_epochs = 20,\n",
    "    hyperband_iterations = 2\n",
    ")"
   ]
  },
  {
   "cell_type": "code",
   "execution_count": 64,
   "id": "99f00294-877d-4487-b591-6ee5d99f4b6d",
   "metadata": {},
   "outputs": [
    {
     "name": "stdout",
     "output_type": "stream",
     "text": [
      "Trial 60 Complete [00h 00m 13s]\n",
      "val_accuracy: 0.7579008936882019\n",
      "\n",
      "Best val_accuracy So Far: 0.7586005926132202\n",
      "Total elapsed time: 00h 04m 58s\n"
     ]
    }
   ],
   "source": [
    "# Find the best hyperparameters\n",
    "tuner.search(\n",
    "    X_train_scaled,\n",
    "    y_train,\n",
    "    epochs = 20,\n",
    "    validation_data = (X_test_scaled, y_test)\n",
    ")"
   ]
  },
  {
   "cell_type": "code",
   "execution_count": 65,
   "id": "5d1a5279-7df0-4329-99a0-15e06d259a6a",
   "metadata": {},
   "outputs": [
    {
     "name": "stdout",
     "output_type": "stream",
     "text": [
      "{'activation_layer_0': 'leaky_relu',\n",
      " 'activation_layer_1': 'relu',\n",
      " 'activation_layer_2': 'elu',\n",
      " 'num_layers': 2,\n",
      " 'tuner/bracket': 2,\n",
      " 'tuner/epochs': 20,\n",
      " 'tuner/initial_epoch': 7,\n",
      " 'tuner/round': 2,\n",
      " 'tuner/trial_id': '0013',\n",
      " 'units_layer_0': 21,\n",
      " 'units_layer_1': 31,\n",
      " 'units_layer_2': 126}\n",
      "{'activation_layer_0': 'relu',\n",
      " 'activation_layer_1': 'softplus',\n",
      " 'activation_layer_2': 'relu',\n",
      " 'num_layers': 2,\n",
      " 'tuner/bracket': 1,\n",
      " 'tuner/epochs': 20,\n",
      " 'tuner/initial_epoch': 7,\n",
      " 'tuner/round': 1,\n",
      " 'tuner/trial_id': '0052',\n",
      " 'units_layer_0': 76,\n",
      " 'units_layer_1': 71,\n",
      " 'units_layer_2': 91}\n",
      "{'activation_layer_0': 'exponential',\n",
      " 'activation_layer_1': 'softmax',\n",
      " 'activation_layer_2': 'selu',\n",
      " 'num_layers': 2,\n",
      " 'tuner/bracket': 0,\n",
      " 'tuner/epochs': 20,\n",
      " 'tuner/initial_epoch': 0,\n",
      " 'tuner/round': 0,\n",
      " 'units_layer_0': 106,\n",
      " 'units_layer_1': 71,\n",
      " 'units_layer_2': 26}\n"
     ]
    }
   ],
   "source": [
    "# Get the top 3 model hyperparameters\n",
    "top3_hyper = tuner.get_best_hyperparameters(3)\n",
    "\n",
    "for model in top3_hyper:\n",
    "    pprint(model.values)"
   ]
  },
  {
   "cell_type": "markdown",
   "id": "5ae2da69-ae19-4296-8a96-58b25bdf73b8",
   "metadata": {},
   "source": [
    "# Compile, Train, and Evaluate the Best Model"
   ]
  },
  {
   "cell_type": "code",
   "execution_count": 66,
   "id": "9a73e8c2-3525-4d79-98d7-456bab124aea",
   "metadata": {},
   "outputs": [
    {
     "data": {
      "text/plain": [
       "{'activation_layer_0': 'leaky_relu',\n",
       " 'units_layer_0': 21,\n",
       " 'num_layers': 2,\n",
       " 'units_layer_1': 31,\n",
       " 'activation_layer_1': 'relu',\n",
       " 'units_layer_2': 126,\n",
       " 'activation_layer_2': 'elu',\n",
       " 'tuner/epochs': 20,\n",
       " 'tuner/initial_epoch': 7,\n",
       " 'tuner/bracket': 2,\n",
       " 'tuner/round': 2,\n",
       " 'tuner/trial_id': '0013'}"
      ]
     },
     "execution_count": 66,
     "metadata": {},
     "output_type": "execute_result"
    }
   ],
   "source": [
    "best_hyper = top3_hyper[0]\n",
    "best_hyper.values"
   ]
  },
  {
   "cell_type": "code",
   "execution_count": 67,
   "id": "696705c5-c350-48fc-9721-648267226e61",
   "metadata": {},
   "outputs": [],
   "source": [
    "# Define the model parameters\n",
    "number_input_features = len(X_train.columns)\n",
    "hidden_layer0_neurons = best_hyper.values['units_layer_0']\n",
    "hidden_layer0_activation = best_hyper.values['activation_layer_0']\n",
    "\n",
    "# Return the number of hidden layers\n",
    "total_hidden = best_hyper.values['num_layers'] + 1"
   ]
  },
  {
   "cell_type": "code",
   "execution_count": 68,
   "id": "18036d75-db58-427a-8f87-a8e9707a76d0",
   "metadata": {},
   "outputs": [
    {
     "name": "stdout",
     "output_type": "stream",
     "text": [
      "Model: \"sequential_1\"\n",
      "_________________________________________________________________\n",
      " Layer (type)                Output Shape              Param #   \n",
      "=================================================================\n",
      " dense_3 (Dense)             (None, 21)                1659      \n",
      "                                                                 \n",
      " dense_4 (Dense)             (None, 31)                682       \n",
      "                                                                 \n",
      " dense_5 (Dense)             (None, 126)               4032      \n",
      "                                                                 \n",
      " dense_6 (Dense)             (None, 1)                 127       \n",
      "                                                                 \n",
      "=================================================================\n",
      "Total params: 6500 (25.39 KB)\n",
      "Trainable params: 6500 (25.39 KB)\n",
      "Non-trainable params: 0 (0.00 Byte)\n",
      "_________________________________________________________________\n"
     ]
    }
   ],
   "source": [
    "# Initialise the sequential model\n",
    "nn = tf.keras.models.Sequential()\n",
    "\n",
    "# Create the input layer and first hidden layer\n",
    "nn.add(tf.keras.layers.Dense(\n",
    "    units = hidden_layer0_neurons,\n",
    "    activation = hidden_layer0_activation,\n",
    "    input_dim = number_input_features\n",
    "))\n",
    "\n",
    "# nn.add(layers.Dropout(rate=0.5))\n",
    "        \n",
    "# Create additional hidden layers\n",
    "for layer in range(1, total_hidden):\n",
    "    nn.add(tf.keras.layers.Dense(\n",
    "        units = best_hyper.values[f'units_layer_{layer}'],\n",
    "        activation = best_hyper.values[f'activation_layer_{layer}']\n",
    "    ))\n",
    "    # nn.add(layers.Dropout(rate=0.5))\n",
    "\n",
    "# Create the output layer\n",
    "nn.add(tf.keras.layers.Dense(\n",
    "    units = 1,\n",
    "    activation = \"sigmoid\"\n",
    "))\n",
    "\n",
    "# Check the structure of the model\n",
    "nn.summary()"
   ]
  },
  {
   "cell_type": "code",
   "execution_count": 69,
   "id": "11fd625a-f95d-4e59-8886-7a594413462a",
   "metadata": {},
   "outputs": [],
   "source": [
    "# Compile the model\n",
    "nn.compile(\n",
    "    loss = \"binary_crossentropy\",\n",
    "    optimizer = optimiser,\n",
    "    metrics = [\"accuracy\"]\n",
    ")"
   ]
  },
  {
   "cell_type": "code",
   "execution_count": 70,
   "id": "efb31f27-79dd-499e-ae13-80de367f3a43",
   "metadata": {
    "scrolled": true,
    "tags": []
   },
   "outputs": [
    {
     "name": "stdout",
     "output_type": "stream",
     "text": [
      "Epoch 1/50\n",
      "804/804 [==============================] - 1s 677us/step - loss: 0.5241 - accuracy: 0.7338\n",
      "Epoch 2/50\n",
      "804/804 [==============================] - 1s 678us/step - loss: 0.4984 - accuracy: 0.7552\n",
      "Epoch 3/50\n",
      "804/804 [==============================] - 1s 672us/step - loss: 0.4952 - accuracy: 0.7561\n",
      "Epoch 4/50\n",
      "804/804 [==============================] - 1s 679us/step - loss: 0.4912 - accuracy: 0.7582\n",
      "Epoch 5/50\n",
      "804/804 [==============================] - 1s 671us/step - loss: 0.4906 - accuracy: 0.7569\n",
      "Epoch 6/50\n",
      "804/804 [==============================] - 1s 689us/step - loss: 0.4892 - accuracy: 0.7579\n",
      "Epoch 7/50\n",
      "804/804 [==============================] - 1s 716us/step - loss: 0.4883 - accuracy: 0.7590\n",
      "Epoch 8/50\n",
      "804/804 [==============================] - 1s 669us/step - loss: 0.4869 - accuracy: 0.7594\n",
      "Epoch 9/50\n",
      "804/804 [==============================] - 1s 681us/step - loss: 0.4857 - accuracy: 0.7601\n",
      "Epoch 10/50\n",
      "804/804 [==============================] - 1s 673us/step - loss: 0.4853 - accuracy: 0.7605\n",
      "Epoch 11/50\n",
      "804/804 [==============================] - 1s 669us/step - loss: 0.4848 - accuracy: 0.7610\n",
      "Epoch 12/50\n",
      "804/804 [==============================] - 1s 676us/step - loss: 0.4841 - accuracy: 0.7620\n",
      "Epoch 13/50\n",
      "804/804 [==============================] - 1s 684us/step - loss: 0.4831 - accuracy: 0.7616\n",
      "Epoch 14/50\n",
      "804/804 [==============================] - 1s 645us/step - loss: 0.4829 - accuracy: 0.7618\n",
      "Epoch 15/50\n",
      "804/804 [==============================] - 1s 667us/step - loss: 0.4835 - accuracy: 0.7619\n",
      "Epoch 16/50\n",
      "804/804 [==============================] - 1s 671us/step - loss: 0.4832 - accuracy: 0.7615\n",
      "Epoch 17/50\n",
      "804/804 [==============================] - 1s 659us/step - loss: 0.4819 - accuracy: 0.7621\n",
      "Epoch 18/50\n",
      "804/804 [==============================] - 1s 649us/step - loss: 0.4821 - accuracy: 0.7624\n",
      "Epoch 19/50\n",
      "804/804 [==============================] - 1s 644us/step - loss: 0.4816 - accuracy: 0.7633\n",
      "Epoch 20/50\n",
      "804/804 [==============================] - 1s 643us/step - loss: 0.4812 - accuracy: 0.7631\n",
      "Epoch 21/50\n",
      "804/804 [==============================] - 1s 644us/step - loss: 0.4809 - accuracy: 0.7631\n",
      "Epoch 22/50\n",
      "804/804 [==============================] - 1s 652us/step - loss: 0.4805 - accuracy: 0.7641\n",
      "Epoch 23/50\n",
      "804/804 [==============================] - 1s 644us/step - loss: 0.4806 - accuracy: 0.7637\n",
      "Epoch 24/50\n",
      "804/804 [==============================] - 1s 647us/step - loss: 0.4802 - accuracy: 0.7632\n",
      "Epoch 25/50\n",
      "804/804 [==============================] - 1s 646us/step - loss: 0.4800 - accuracy: 0.7619\n",
      "Epoch 26/50\n",
      "804/804 [==============================] - 1s 649us/step - loss: 0.4798 - accuracy: 0.7628\n",
      "Epoch 27/50\n",
      "804/804 [==============================] - 1s 646us/step - loss: 0.4796 - accuracy: 0.7638\n",
      "Epoch 28/50\n",
      "804/804 [==============================] - 1s 644us/step - loss: 0.4795 - accuracy: 0.7637\n",
      "Epoch 29/50\n",
      "804/804 [==============================] - 1s 645us/step - loss: 0.4786 - accuracy: 0.7635\n",
      "Epoch 30/50\n",
      "804/804 [==============================] - 1s 644us/step - loss: 0.4789 - accuracy: 0.7633\n",
      "Epoch 31/50\n",
      "804/804 [==============================] - 1s 663us/step - loss: 0.4790 - accuracy: 0.7638\n",
      "Epoch 32/50\n",
      "804/804 [==============================] - 1s 652us/step - loss: 0.4787 - accuracy: 0.7624\n",
      "Epoch 33/50\n",
      "804/804 [==============================] - 1s 643us/step - loss: 0.4788 - accuracy: 0.7631\n",
      "Epoch 34/50\n",
      "804/804 [==============================] - 1s 682us/step - loss: 0.4783 - accuracy: 0.7640\n",
      "Epoch 35/50\n",
      "804/804 [==============================] - 1s 650us/step - loss: 0.4784 - accuracy: 0.7638\n",
      "Epoch 36/50\n",
      "804/804 [==============================] - 1s 644us/step - loss: 0.4780 - accuracy: 0.7644\n",
      "Epoch 37/50\n",
      "804/804 [==============================] - 1s 660us/step - loss: 0.4781 - accuracy: 0.7651\n",
      "Epoch 38/50\n",
      "804/804 [==============================] - 1s 669us/step - loss: 0.4782 - accuracy: 0.7646\n",
      "Epoch 39/50\n",
      "804/804 [==============================] - 1s 661us/step - loss: 0.4773 - accuracy: 0.7656\n",
      "Epoch 40/50\n",
      "804/804 [==============================] - 1s 646us/step - loss: 0.4778 - accuracy: 0.7646\n",
      "Epoch 41/50\n",
      "804/804 [==============================] - 1s 683us/step - loss: 0.4776 - accuracy: 0.7632\n",
      "Epoch 42/50\n",
      "804/804 [==============================] - 1s 653us/step - loss: 0.4774 - accuracy: 0.7647\n",
      "Epoch 43/50\n",
      "804/804 [==============================] - 1s 659us/step - loss: 0.4773 - accuracy: 0.7654\n",
      "Epoch 44/50\n",
      "804/804 [==============================] - 1s 648us/step - loss: 0.4769 - accuracy: 0.7648\n",
      "Epoch 45/50\n",
      "804/804 [==============================] - 1s 651us/step - loss: 0.4770 - accuracy: 0.7636\n",
      "Epoch 46/50\n",
      "804/804 [==============================] - 1s 644us/step - loss: 0.4770 - accuracy: 0.7654\n",
      "Epoch 47/50\n",
      "804/804 [==============================] - 1s 648us/step - loss: 0.4767 - accuracy: 0.7655\n",
      "Epoch 48/50\n",
      "804/804 [==============================] - 1s 655us/step - loss: 0.4767 - accuracy: 0.7653\n",
      "Epoch 49/50\n",
      "804/804 [==============================] - 1s 649us/step - loss: 0.4770 - accuracy: 0.7654\n",
      "Epoch 50/50\n",
      "804/804 [==============================] - 1s 647us/step - loss: 0.4766 - accuracy: 0.7655\n"
     ]
    }
   ],
   "source": [
    "# Train the model\n",
    "fit_model = nn.fit(\n",
    "    X_train_scaled,\n",
    "    y_train,\n",
    "    epochs = 50,\n",
    "    verbose = 1\n",
    ")"
   ]
  },
  {
   "cell_type": "code",
   "execution_count": 71,
   "id": "00cba103-a16a-4ecf-ae68-82f3acaa122b",
   "metadata": {},
   "outputs": [
    {
     "name": "stdout",
     "output_type": "stream",
     "text": [
      "268/268 - 0s - loss: 0.4973 - accuracy: 0.7521 - 136ms/epoch - 508us/step\n",
      "Loss: 0.4972832202911377, Accuracy: 0.7520699501037598\n"
     ]
    }
   ],
   "source": [
    "# Evaluate the model using the test data\n",
    "model_loss, model_accuracy = nn.evaluate(\n",
    "    X_test_scaled,\n",
    "    y_test,\n",
    "    verbose = 2\n",
    ")\n",
    "print(f\"Loss: {model_loss}, Accuracy: {model_accuracy}\")"
   ]
  },
  {
   "cell_type": "code",
   "execution_count": null,
   "id": "e725ede9-242c-424b-99ac-a1d063932629",
   "metadata": {},
   "outputs": [],
   "source": [
    "# Print the model architecture\n",
    "print(f\"Input features: {number_input_features}\")\n",
    "print(f\"Hidden Layer 0: {hidden_layer0_activation}, {hidden_layer0_neurons}\")\n",
    "\n",
    "for layer in range(1, total_hidden):\n",
    "    activation = best_hyper.values[f'activation_layer_{layer}']\n",
    "    neurons = best_hyper.values[f'units_layer_{layer}']\n",
    "    print(f\"Hidden Layer {layer}: {activation}, {neurons}\")\n",
    "    "
   ]
  },
  {
   "cell_type": "code",
   "execution_count": null,
   "id": "442ecaa1-7c02-4fa6-bab2-d2a1733296e8",
   "metadata": {},
   "outputs": [],
   "source": []
  }
 ],
 "metadata": {
  "kernelspec": {
   "display_name": "dev",
   "language": "python",
   "name": "dev"
  },
  "language_info": {
   "codemirror_mode": {
    "name": "ipython",
    "version": 3
   },
   "file_extension": ".py",
   "mimetype": "text/x-python",
   "name": "python",
   "nbconvert_exporter": "python",
   "pygments_lexer": "ipython3",
   "version": "3.10.13"
  }
 },
 "nbformat": 4,
 "nbformat_minor": 5
}
